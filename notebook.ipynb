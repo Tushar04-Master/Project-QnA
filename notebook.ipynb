{
 "cells": [
  {
   "cell_type": "markdown",
   "id": "9a3b432b",
   "metadata": {},
   "source": [
    "# The PDF parser\n"
   ]
  }
 ],
 "metadata": {
  "language_info": {
   "name": "python"
  }
 },
 "nbformat": 4,
 "nbformat_minor": 5
}
