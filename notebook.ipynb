{
 "cells": [
  {
   "cell_type": "markdown",
   "id": "9a3b432b",
   "metadata": {},
   "source": [
    "# Phase 1: The PDF parser\n"
   ]
  },
  {
   "cell_type": "markdown",
   "id": "dc16f316",
   "metadata": {},
   "source": [
    "**Goal:** Extract clean text and page numbers from a user-uploaded PDF."
   ]
  },
  {
   "cell_type": "code",
   "execution_count": 124,
   "id": "dc6cce19",
   "metadata": {},
   "outputs": [],
   "source": [
    "import fitz  # Import the PyMuPDF library\n",
    "# Define a function to accept pdf with its path\n",
    "def extract_text_from_pdf(pdf_path):\n",
    "    doc = fitz.open(pdf_path) # Open the Document\n",
    "    # Preparing \"Collection Basket\"\n",
    "    pages_data = [] \n",
    "    # loop through each page in the doc\n",
    "    for page_no , page in enumerate(doc , start=1):\n",
    "        texts = page.get_text()\n",
    "        page_dict = {\"page_no\":page_no , \"text\":texts}\n",
    "        pages_data.append(page_dict)\n",
    "\n",
    "    return pages_data        "
   ]
  },
  {
   "cell_type": "code",
   "execution_count": 125,
   "id": "d979a796",
   "metadata": {},
   "outputs": [
    {
     "name": "stdout",
     "output_type": "stream",
     "text": [
      "The PDF has 256 pages.\n",
      "\n",
      "Data from the first page:\n",
      "{'page_no': 27, 'text': 'Chapter Summary\\nHabits are the compound interest of selfimprovement. Getting 1\\npercent better every day counts for a lot in the long-run.\\nHabits are a double-edged sword. They can work for you or against\\nyou, which is why understanding the details is essential.\\nSmall changes often appear to make no difference until you cross a\\ncritical threshold. The most powerful outcomes of any compounding\\nprocess are delayed. You need to be patient.\\nAn atomic habit is a little habit that is part of a larger system. Just as\\natoms are the building blocks of molecules, atomic habits are the\\nbuilding blocks of remarkable results.\\nIf you want better results, then forget about setting goals. Focus on\\nyour system instead.\\nYou do not rise to the level of your goals. You fall to the level of your\\nsystems.\\n'}\n",
      "\n",
      "Just the text from the first page:\n",
      "Chapter Summary\n",
      "Habits are the compound interest of selfimprovement. Getting 1\n",
      "percent better every day counts for a lot in the long-run.\n",
      "Habits are a double-edged sword. They can work for you or against\n",
      "you, which is why understanding the details is essential.\n",
      "Small changes often appear to make no difference until you cross a\n",
      "critical threshold. The most powerful outcomes of any compounding\n",
      "process are delayed. You need to be patient.\n",
      "An atomic habit is a little habit that is part of a larger system. Just as\n",
      "atoms are the building blocks of molecules, atomic habits are the\n",
      "building blocks of remarkable results.\n",
      "If you want better results, then forget about setting goals. Focus on\n",
      "your system instead.\n",
      "You do not rise to the level of your goals. You fall to the level of your\n",
      "systems.\n",
      "\n"
     ]
    }
   ],
   "source": [
    "# Testing\n",
    "path = \"/Users/tushar04master/Documents/Project QnA/samples/Atomic habits.pdf\"\n",
    "extracted_data = extract_text_from_pdf(path)\n",
    "print(f\"The PDF has {len(extracted_data)} pages.\")\n",
    "print(\"\\nData from the first page:\")\n",
    "print(extracted_data[26])\n",
    "print(\"\\nJust the text from the first page:\")\n",
    "print(extracted_data[26]['text'])"
   ]
  },
  {
   "cell_type": "markdown",
   "id": "be1dc2b6",
   "metadata": {},
   "source": [
    "# Phase 2: The Document Processor (The \"Chunker\")"
   ]
  },
  {
   "cell_type": "markdown",
   "id": "e03d7ddf",
   "metadata": {},
   "source": [
    "#### Problem:\n",
    "The transformer models we use for Question Answering have a \"short attention span.\" They can only read a certain amount of text at one time (typically around 512 tokens, which is roughly 300-400 words). If you give them an entire page from a book, which could have thousands of words, they get overwhelmed and can't process it."
   ]
  },
  {
   "cell_type": "markdown",
   "id": "f2728d9a",
   "metadata": {},
   "source": [
    "#### Solution: \n",
    "We need to be like a book editor. We will take the long scroll of text from each page and cut it into smaller, standard-sized paragraphs or \"chunks.\" We'll also make these chunks overlap slightly, so if an important sentence gets cut in half at the end of one chunk, it will be complete at the beginning of the next."
   ]
  },
  {
   "cell_type": "markdown",
   "id": "91b8caee",
   "metadata": {},
   "source": [
    "#### Goal:\n",
    " Write a function that takes the list_of_pages we created in Phase 1 and returns a new, much longer list. Each item in this new list will be a dictionary containing a page_num and a small chunk_of_text."
   ]
  },
  {
   "cell_type": "code",
   "execution_count": 126,
   "id": "902f6d82",
   "metadata": {},
   "outputs": [],
   "source": [
    "# Creating function for text chunker\n",
    "def chunk_text(pages_data,chunk_size,chunk_overlap): # it's input is the output of the previous function . A list .\n",
    "    # Prepare a New \"Collection Basket\"\n",
    "    chunks = []\n",
    "    # The Outer loop\n",
    "    for page_item in pages_data:\n",
    "        page_num = page_item['page_no']\n",
    "        page_text = page_item['text']\n",
    "        \n",
    "        # --- Step 2: Apply the sliding window logic to the text of THIS page ---\n",
    "        for i in range(0, len(page_text), chunk_size - chunk_overlap):\n",
    "            \n",
    "            # Get a slice of the page's text\n",
    "            chunk_text = page_text[i : i + chunk_size]\n",
    "            \n",
    "            # --- Step 3: Create the final dictionary with metadata ---\n",
    "            chunk_dict = {\n",
    "                \"page_num\": page_num,\n",
    "                \"text_chunk\": chunk_text\n",
    "            }\n",
    "            \n",
    "            # --- Step 4: Add the dictionary to our final list ---\n",
    "            chunks.append(chunk_dict)\n",
    "            \n",
    "    return chunks         "
   ]
  },
  {
   "cell_type": "markdown",
   "id": "c7497c83",
   "metadata": {},
   "source": [
    "if we just jumped by the full chunk_size, there would be no overlap. By jumping forward by chunk_size - chunk_overlap, we ensure the start of the new chunk begins inside the end of the old one."
   ]
  },
  {
   "cell_type": "code",
   "execution_count": 127,
   "id": "fdecb546",
   "metadata": {},
   "outputs": [
    {
     "name": "stdout",
     "output_type": "stream",
     "text": [
      "Chunking the document with the new function...\n",
      "Chunking complete! ✅\n",
      "\n",
      "Original number of pages: 256\n",
      "Number of chunks after processing: 1158\n",
      "\n",
      "--- Example Chunks with Page Numbers ---\n",
      "{'page_num': 3, 'text_chunk': 'AN IMPRINT OF PENGUIN RANDOM HOUSE LLC\\n375 Hudson Street\\nNew York, New York 10014\\nCopyright © 2018 by James Clear\\nPenguin supports copyright. Copyright fuels creativity, encourages diverse voices, promotes free speech, and creates a vibrant culture. Thank you for buying an authorized edition of this book and for\\ncomplying with copyright laws by not reproducing, scanning, or distributing any part of it in any form without permission. You are supporting writers and allowing Penguin to continue to '}\n",
      "{'page_num': 3, 'text_chunk': 'rting writers and allowing Penguin to continue to publish books\\nfor every reader.\\n'}\n",
      "{'page_num': 4, 'text_chunk': 'Ebook ISBN 9780735211308\\nWhile the author has made every effort to provide accurate Internet addresses at the time of publication, neither the publisher nor the author assumes any responsibility for errors, or for changes that occur\\nafter publication. Further, the publisher does not have any control over and does not assume any responsibility for author or third-party websites or their content.\\nVersion_1\\n'}\n",
      "{'page_num': 5, 'text_chunk': 'a·tom·ic\\nəˈtämik\\n1. \\nan extremely small amount of a thing; the single irreducible unit of a larger system.\\n2. \\nthe source of immense energy or power.\\nhab·it\\nˈhabət\\n1. \\na routine or practice performed regularly; an automatic response to a specific situation.\\n'}\n",
      "{'page_num': 6, 'text_chunk': 'Contents\\nTitle Page\\nCopyright\\nEpigraph\\nIntroduction: My Story\\nThe Fundamentals \\nWhy Tiny Changes Make a Big Difference\\n1 The Surprising Power of Atomic Habits\\n2 How Your Habits Shape Your Identity (and Vice Versa)\\n3 How to Build Better Habits in 4 Simple Steps\\nThe 1st Law \\nMake It Obvious\\n4 The Man Who Didn’t Look Right\\n5 The Best Way to Start a New Habit\\n6 Motivation Is Overrated; Environment Often Matters More\\n7 The Secret to Self-Control\\nThe 2nd Law \\nMake It Attractive\\n8 How to Make a Habit I'}\n",
      "{'page_num': 6, 'text_chunk': 'nd Law \\nMake It Attractive\\n8 How to Make a Habit Irresistible\\n9 The Role of Family and Friends in Shaping Your Habits\\n10 How to Find and Fix the Causes of Your Bad Habits\\nThe 3rd Law \\nMake It Easy\\n11 Walk Slowly, but Never Backward\\n12 The Law of Least Effort\\n13 How to Stop Procrastinating by Using the Two-Minute Rule\\n14 How to Make Good Habits Inevitable and Bad Habits Impossible\\n'}\n",
      "{'page_num': 7, 'text_chunk': 'The 4th Law \\nMake It Satisfying\\n15 The Cardinal Rule of Behavior Change\\n16 How to Stick with Good Habits Every Day\\n17 How an Accountability Partner Can Change Everything\\nAdvanced Tactics \\nHow to Go from Being Merely Good to Being Truly Great\\n18 The Truth About Talent (When Genes Matter and When They Don’t)\\n19 The Goldilocks Rule: How to Stay Motivated in Life and Work\\n20 The Downside of Creating Good Habits\\nConclusion: The Secret to Results That Last\\nAppendix\\nWhat Should You Read Next?\\nLittle Le'}\n",
      "{'page_num': 7, 'text_chunk': 'Last\\nAppendix\\nWhat Should You Read Next?\\nLittle Lessons from the Four Laws\\nHow to Apply These Ideas to Business\\nHow to Apply These Ideas to Parenting\\nAcknowledgments\\nNotes\\nIndex\\nAbout the Author\\n'}\n",
      "{'page_num': 8, 'text_chunk': 'Introduction\\nMy Story\\nON THE FINAL day of my sophomore year of high school, I was hit in the face with a\\nbaseball bat. As my classmate took a full swing, the bat slipped out of his hands\\nand came flying toward me before striking me directly between the eyes. I have\\nno memory of the moment of impact.\\nThe bat smashed into my face with such force that it crushed my nose into a\\ndistorted U-shape. The collision sent the soft tissue of my brain slamming into\\nthe inside of my skull. Immediately, a wave'}\n",
      "{'page_num': 8, 'text_chunk': 'g into\\nthe inside of my skull. Immediately, a wave of swelling surged throughout my\\nhead. In a fraction of a second, I had a broken nose, multiple skull fractures, and\\ntwo shattered eye sockets.\\nWhen I opened my eyes, I saw people staring at me and running over to help.\\nI looked down and noticed spots of red on my clothes. One of my classmates\\ntook the shirt off his back and handed it to me. I used it to plug the stream of\\nblood rushing from my broken nose. Shocked and confused, I was unaware of'}\n",
      "{'page_num': 8, 'text_chunk': 'roken nose. Shocked and confused, I was unaware of\\nhow seriously I had been injured.\\nMy teacher looped his arm around my shoulder and we began the long walk to\\nthe nurse’s office: across the field, down the hill, and back into school. Random\\nhands touched my sides, holding me upright. We took our time and walked\\nslowly. Nobody realized that every minute mattered.\\nWhen we arrived at the nurse’s office, she asked me a series of questions.\\n“What year is it?”\\n“1998,” I answered. It was actually 2002'}\n",
      "{'page_num': 8, 'text_chunk': 'r is it?”\\n“1998,” I answered. It was actually 2002.\\n“Who is the president of the United States?”\\n“Bill Clinton,” I said. The correct answer was George W. Bush.\\n“What is your mom’s name?”\\n“Uh. Um.” I stalled. Ten seconds passed.\\n“Patti,” I said casually, ignoring the fact that it had taken me ten seconds to\\nremember my own mother’s name.\\nThat is the last question I remember. My body was unable to handle the rapid\\nswelling in my brain and I lost consciousness before the ambulance arrived.\\nMinutes '}\n",
      "{'page_num': 8, 'text_chunk': 'nsciousness before the ambulance arrived.\\nMinutes later, I was carried out of school and taken to the local hospital.\\nShortly after arriving, my body began shutting down. I struggled with basic\\nfunctions like swallowing and breathing. I had my first seizure of the day. Then I\\n'}\n",
      "{'page_num': 9, 'text_chunk': 'stopped breathing entirely. As the doctors hurried to supply me with oxygen,\\nthey also decided the local hospital was unequipped to handle the situation and\\nordered a helicopter to fly me to a larger hospital in Cincinnati.\\nI was rolled out of the emergency room doors and toward the helipad across\\nthe street. The stretcher rattled on a bumpy sidewalk as one nurse pushed me\\nalong while another pumped each breath into me by hand. My mother, who had\\narrived at the hospital a few moments before, cli'}\n",
      "{'page_num': 9, 'text_chunk': '\\narrived at the hospital a few moments before, climbed into the helicopter beside\\nme. I remained unconscious and unable to breathe on my own as she held my\\nhand during the flight.\\nWhile my mother rode with me in the helicopter, my father went home to\\ncheck on my brother and sister and break the news to them. He choked back\\ntears as he explained to my sister that he would miss her eighth-grade graduation\\nceremony that night. After passing my siblings off to family and friends, he\\ndrove to Cincinn'}\n",
      "{'page_num': 9, 'text_chunk': 'ngs off to family and friends, he\\ndrove to Cincinnati to meet my mother.\\nWhen my mom and I landed on the roof of the hospital, a team of nearly\\ntwenty doctors and nurses sprinted onto the helipad and wheeled me into the\\ntrauma unit. By this time, the swelling in my brain had become so severe that I\\nwas having repeated post-traumatic seizures. My broken bones needed to be\\nfixed, but I was in no condition to undergo surgery. After yet another seizure—\\nmy third of the day—I was put into a medically'}\n",
      "{'page_num': 9, 'text_chunk': 're—\\nmy third of the day—I was put into a medically induced coma and placed on a\\nventilator.\\nMy parents were no strangers to this hospital. Ten years earlier, they had\\nentered the same building on the ground floor after my sister was diagnosed with\\nleukemia at age three. I was five at the time. My brother was just six months old.\\nAfter two and a half years of chemotherapy treatments, spinal taps, and bone\\nmarrow biopsies, my little sister finally walked out of the hospital happy,\\nhealthy, and can'}\n",
      "{'page_num': 9, 'text_chunk': 'walked out of the hospital happy,\\nhealthy, and cancer free. And now, after ten years of normal life, my parents\\nfound themselves back in the same place with a different child.\\nWhile I slipped into a coma, the hospital sent a priest and a social worker to\\ncomfort my parents. It was the same priest who had met with them a decade\\nearlier on the evening they found out my sister had cancer.\\nAs day faded into night, a series of machines kept me alive. My parents slept\\nrestlessly on a hospital mattress'}\n",
      "{'page_num': 9, 'text_chunk': 'My parents slept\\nrestlessly on a hospital mattress—one moment they would collapse from fatigue,\\nthe next they would be wide awake with worry. My mother would tell me later,\\n“It was one of the worst nights I’ve ever had.”\\nMY RECOVERY\\n'}\n",
      "{'page_num': 10, 'text_chunk': 'Mercifully, by the next morning my breathing had rebounded to the point where\\nthe doctors felt comfortable releasing me from the coma. When I finally\\nregained consciousness, I discovered that I had lost my ability to smell. As a test,\\na nurse asked me to blow my nose and sniff an apple juice box. My sense of\\nsmell returned, but—to everyone’s surprise—the act of blowing my nose forced\\nair through the fractures in my eye socket and pushed my left eye outward. My\\neyeball bulged out of the socket, h'}\n",
      "{'page_num': 10, 'text_chunk': 'ye outward. My\\neyeball bulged out of the socket, held precariously in place by my eyelid and the\\noptic nerve attaching my eye to my brain.\\nThe ophthalmologist said my eye would gradually slide back into place as the\\nair seeped out, but it was hard to tell how long this would take. I was scheduled\\nfor surgery one week later, which would allow me some additional time to heal.\\nI looked like I had been on the wrong end of a boxing match, but I was cleared\\nto leave the hospital. I returned home with '}\n",
      "{'page_num': 10, 'text_chunk': 'eared\\nto leave the hospital. I returned home with a broken nose, half a dozen facial\\nfractures, and a bulging left eye.\\nThe following months were hard. It felt like everything in my life was on\\npause. I had double vision for weeks; I literally couldn’t see straight. It took\\nmore than a month, but my eyeball did eventually return to its normal location.\\nBetween the seizures and my vision problems, it was eight months before I could\\ndrive a car again. At physical therapy, I practiced basic motor p'}\n",
      "{'page_num': 10, 'text_chunk': 'in. At physical therapy, I practiced basic motor patterns like\\nwalking in a straight line. I was determined not to let my injury get me down, but\\nthere were more than a few moments when I felt depressed and overwhelmed.\\nI became painfully aware of how far I had to go when I returned to the\\nbaseball field one year later. Baseball had always been a major part of my life.\\nMy dad had played minor league baseball for the St. Louis Cardinals, and I had a\\ndream of playing professionally, too. After mon'}\n",
      "{'page_num': 10, 'text_chunk': ' a\\ndream of playing professionally, too. After months of rehabilitation, what I\\nwanted more than anything was to get back on the field.\\nBut my return to baseball was not smooth. When the season rolled around, I\\nwas the only junior to be cut from the varsity baseball team. I was sent down to\\nplay with the sophomores on junior varsity. I had been playing since age four,\\nand for someone who had spent so much time and effort on the sport, getting cut\\nwas humiliating. I vividly remember the day it ha'}\n",
      "{'page_num': 10, 'text_chunk': '\\nwas humiliating. I vividly remember the day it happened. I sat in my car and\\ncried as I flipped through the radio, desperately searching for a song that would\\nmake me feel better.\\nAfter a year of self-doubt, I managed to make the varsity team as a senior, but\\nI rarely made it on the field. In total, I played eleven innings of high school\\nvarsity baseball, barely more than a single game.\\nDespite my lackluster high school career, I still believed I could become a\\ngreat player. And I knew that if '}\n",
      "{'page_num': 10, 'text_chunk': 'I could become a\\ngreat player. And I knew that if things were going to improve, I was the one\\nresponsible for making it happen. The turning point came two years after my\\n'}\n",
      "{'page_num': 11, 'text_chunk': 'injury, when I began college at Denison University. It was a new beginning, and\\nit was the place where I would discover the surprising power of small habits for\\nthe first time.\\nHOW I LEARNED ABOUT HABITS\\nAttending Denison was one of the best decisions of my life. I earned a spot on\\nthe baseball team and, although I was at the bottom of the roster as a freshman, I\\nwas thrilled. Despite the chaos of my high school years, I had managed to\\nbecome a college athlete.\\nI wasn’t going to be starting on t'}\n",
      "{'page_num': 11, 'text_chunk': 'ollege athlete.\\nI wasn’t going to be starting on the baseball team anytime soon, so I focused\\non getting my life in order. While my peers stayed up late and played video\\ngames, I built good sleep habits and went to bed early each night. In the messy\\nworld of a college dorm, I made a point to keep my room neat and tidy. These\\nimprovements were minor, but they gave me a sense of control over my life. I\\nstarted to feel confident again. And this growing belief in myself rippled into the\\nclassroom as'}\n",
      "{'page_num': 11, 'text_chunk': 'ing belief in myself rippled into the\\nclassroom as I improved my study habits and managed to earn straight A’s\\nduring my first year.\\nA habit is a routine or behavior that is performed regularly—and, in many\\ncases, automatically. As each semester passed, I accumulated small but\\nconsistent habits that ultimately led to results that were unimaginable to me\\nwhen I started. For example, for the first time in my life, I made it a habit to lift\\nweights multiple times per week, and in the years that fol'}\n",
      "{'page_num': 11, 'text_chunk': 'multiple times per week, and in the years that followed, my six-foot-\\nfour-inch frame bulked up from a featherweight 170 to a lean 200 pounds.\\nWhen my sophomore season arrived, I earned a starting role on the pitching\\nstaff. By my junior year, I was voted team captain and at the end of the season, I\\nwas selected for the all-conference team. But it was not until my senior season\\nthat my sleep habits, study habits, and strength-training habits really began to\\npay off.\\nSix years after I had been hi'}\n",
      "{'page_num': 11, 'text_chunk': 'ly began to\\npay off.\\nSix years after I had been hit in the face with a baseball bat, flown to the\\nhospital, and placed into a coma, I was selected as the top male athlete at\\nDenison University and named to the ESPN Academic All-America Team—an\\nhonor given to just thirty-three players across the country. By the time I\\ngraduated, I was listed in the school record books in eight different categories.\\nThat same year, I was awarded the university’s highest academic honor, the\\nPresident’s Medal.\\nI hop'}\n",
      "{'page_num': 11, 'text_chunk': 'ghest academic honor, the\\nPresident’s Medal.\\nI hope you’ll forgive me if this sounds boastful. To be honest, there was\\nnothing legendary or historic about my athletic career. I never ended up playing\\n'}\n",
      "{'page_num': 12, 'text_chunk': 'professionally. However, looking back on those years, I believe I accomplished\\nsomething just as rare: I fulfilled my potential. And I believe the concepts in this\\nbook can help you fulfill your potential as well.\\nWe all face challenges in life. This injury was one of mine, and the experience\\ntaught me a critical lesson: changes that seem small and unimportant at first will\\ncompound into remarkable results if you’re willing to stick with them for years.\\nWe all deal with setbacks but in the long '}\n",
      "{'page_num': 12, 'text_chunk': ' years.\\nWe all deal with setbacks but in the long run, the quality of our lives often\\ndepends on the quality of our habits. With the same habits, you’ll end up with\\nthe same results. But with better habits, anything is possible.\\nMaybe there are people who can achieve incredible success overnight. I don’t\\nknow any of them, and I’m certainly not one of them. There wasn’t one defining\\nmoment on my journey from medically induced coma to Academic All-\\nAmerican; there were many. It was a gradual evolu'}\n",
      "{'page_num': 12, 'text_chunk': '\\nAmerican; there were many. It was a gradual evolution, a long series of small\\nwins and tiny breakthroughs. The only way I made progress—the only choice I\\nhad—was to start small. And I employed this same strategy a few years later\\nwhen I started my own business and began working on this book.\\nHOW AND WHY I WROTE THIS BOOK\\nIn November 2012, I began publishing articles at jamesclear.com. For years, I\\nhad been keeping notes about my personal experiments with habits and I was\\nfinally ready to share '}\n",
      "{'page_num': 12, 'text_chunk': 'ents with habits and I was\\nfinally ready to share some of them publicly. I began by publishing a new article\\nevery Monday and Thursday. Within a few months, this simple writing habit led\\nto my first one thousand email subscribers, and by the end of 2013 that number\\nhad grown to more than thirty thousand people.\\nIn 2014, my email list expanded to over one hundred thousand subscribers,\\nwhich made it one of the fastest-growing newsletters on the internet. I had felt\\nlike an impostor when I began wr'}\n",
      "{'page_num': 12, 'text_chunk': 'ernet. I had felt\\nlike an impostor when I began writing two years earlier, but now I was\\nbecoming known as an expert on habits—a new label that excited me but also\\nfelt uncomfortable. I had never considered myself a master of the topic, but\\nrather someone who was experimenting alongside my readers.\\nIn 2015, I reached two hundred thousand email subscribers and signed a book\\ndeal with Penguin Random House to begin writing the book you are reading\\nnow. As my audience grew, so did my business opport'}\n",
      "{'page_num': 12, 'text_chunk': 'ow. As my audience grew, so did my business opportunities. I was increasingly\\nasked to speak at top companies about the science of habit formation, behavior\\nchange, and continuous improvement. I found myself delivering keynote\\nspeeches at conferences in the United States and Europe.\\nIn 2016, my articles began to appear regularly in major publications like Time,\\n'}\n",
      "{'page_num': 13, 'text_chunk': 'Entrepreneur, and Forbes. Incredibly, my writing was read by over eight million\\npeople that year. Coaches in the NFL, NBA, and MLB began reading my work\\nand sharing it with their teams.\\nAt the start of 2017, I launched the Habits Academy, which became the\\npremier training platform for organizations and individuals interested in building\\nbetter habits in life and work.* Fortune 500 companies and growing start-ups\\nbegan to enroll their leaders and train their staff. In total, over ten thousand\\nlea'}\n",
      "{'page_num': 13, 'text_chunk': 'train their staff. In total, over ten thousand\\nleaders, managers, coaches, and teachers have graduated from the Habits\\nAcademy, and my work with them has taught me an incredible amount about\\nwhat it takes to make habits work in the real world.\\nAs I put the finishing touches on this book in 2018, jamesclear.com is\\nreceiving millions of visitors per month and nearly five hundred thousand people\\nsubscribe to my weekly email newsletter—a number that is so far beyond my\\nexpectations when I began that'}\n",
      "{'page_num': 13, 'text_chunk': 'is so far beyond my\\nexpectations when I began that I’m not even sure what to think of it.\\nHOW THIS BOOK WILL BENEFIT YOU\\nThe entrepreneur and investor Naval Ravikant has said, “To write a great book,\\nyou must first become the book.” I originally learned about the ideas mentioned\\nhere because I had to live them. I had to rely on small habits to rebound from my\\ninjury, to get stronger in the gym, to perform at a high level on the field, to\\nbecome a writer, to build a successful business, and simpl'}\n",
      "{'page_num': 13, 'text_chunk': ' writer, to build a successful business, and simply to develop into a\\nresponsible adult. Small habits helped me fulfill my potential, and since you\\npicked up this book, I’m guessing you’d like to fulfill yours as well.\\nIn the pages that follow, I will share a step-by-step plan for building better\\nhabits—not for days or weeks, but for a lifetime. While science supports\\neverything I’ve written, this book is not an academic research paper; it’s an\\noperating manual. You’ll find wisdom and practical '}\n",
      "{'page_num': 13, 'text_chunk': 'perating manual. You’ll find wisdom and practical advice front and center as I\\nexplain the science of how to create and change your habits in a way that is easy\\nto understand and apply.\\nThe fields I draw on—biology, neuroscience, philosophy, psychology, and\\nmore—have been around for many years. What I offer you is a synthesis of the\\nbest ideas smart people figured out a long time ago as well as the most\\ncompelling discoveries scientists have made recently. My contribution, I hope, is\\nto find the'}\n",
      "{'page_num': 13, 'text_chunk': ' recently. My contribution, I hope, is\\nto find the ideas that matter most and connect them in a way that is highly\\nactionable. Anything wise in these pages you should credit to the many experts\\nwho preceded me. Anything foolish, assume it is my error.\\nThe backbone of this book is my four-step model of habits—cue, craving,\\n'}\n",
      "{'page_num': 14, 'text_chunk': 'response, and reward—and the four laws of behavior change that evolve out of\\nthese steps. Readers with a psychology background may recognize some of these\\nterms from operant conditioning, which was first proposed as “stimulus,\\nresponse, reward” by B. F. Skinner in the 1930s and has been popularized more\\nrecently as “cue, routine, reward” in The Power of Habit by Charles Duhigg.\\nBehavioral scientists like Skinner realized that if you offered the right reward\\nor punishment, you could get people to'}\n",
      "{'page_num': 14, 'text_chunk': 'ight reward\\nor punishment, you could get people to act in a certain way. But while Skinner’s\\nmodel did an excellent job of explaining how external stimuli influenced our\\nhabits, it lacked a good explanation for how our thoughts, feelings, and beliefs\\nimpact our behavior. Internal states—our moods and emotions—matter, too. In\\nrecent decades, scientists have begun to determine the connection between our\\nthoughts, feelings, and behavior. This research will also be covered in these\\npages.\\nIn total, '}\n",
      "{'page_num': 14, 'text_chunk': 'ch will also be covered in these\\npages.\\nIn total, the framework I offer is an integrated model of the cognitive and\\nbehavioral sciences. I believe it is one of the first models of human behavior to\\naccurately account for both the influence of external stimuli and internal\\nemotions on our habits. While some of the language may be familiar, I am\\nconfident that the details—and the applications of the Four Laws of Behavior\\nChange—will offer a new way to think about your habits.\\nHuman behavior is alw'}\n",
      "{'page_num': 14, 'text_chunk': ' to think about your habits.\\nHuman behavior is always changing: situation to situation, moment to\\nmoment, second to second. But this book is about what doesn’t change. It’s\\nabout the fundamentals of human behavior. The lasting principles you can rely\\non year after year. The ideas you can build a business around, build a family\\naround, build a life around.\\nThere is no one right way to create better habits, but this book describes the\\nbest way I know—an approach that will be effective regardless o'}\n",
      "{'page_num': 14, 'text_chunk': 'ow—an approach that will be effective regardless of where you\\nstart or what you’re trying to change. The strategies I cover will be relevant to\\nanyone looking for a step-by-step system for improvement, whether your goals\\ncenter on health, money, productivity, relationships, or all of the above. As long\\nas human behavior is involved, this book will be your guide.\\n'}\n",
      "{'page_num': 15, 'text_chunk': 'THE \\nFUNDAMENTALS\\nWhy Tiny Changes Make a Big Difference\\n'}\n"
     ]
    }
   ],
   "source": [
    "CHUNK_SIZE = 500\n",
    "CHUNK_OVERLAP = 50\n",
    "\n",
    "print(\"Chunking the document with the new function...\")\n",
    "final_chunked_data = chunk_text(\n",
    "    pages_data=extracted_data, \n",
    "    chunk_size=CHUNK_SIZE, \n",
    "    chunk_overlap=CHUNK_OVERLAP\n",
    ")\n",
    "print(\"Chunking complete! ✅\")\n",
    "\n",
    "# --- Inspect the new results ---\n",
    "print(f\"\\nOriginal number of pages: {len(extracted_data)}\")\n",
    "print(f\"Number of chunks after processing: {len(final_chunked_data)}\")\n",
    "\n",
    "# Look at a few chunks to verify the structure and page numbers\n",
    "print(\"\\n--- Example Chunks with Page Numbers ---\")\n",
    "if len(final_chunked_data) > 5:\n",
    "    for chunk in final_chunked_data[:50]:\n",
    "        print(chunk)\n",
    "\n"
   ]
  },
  {
   "cell_type": "markdown",
   "id": "71a5f979",
   "metadata": {},
   "source": [
    "# Phase 3: The **QA Engine** "
   ]
  },
  {
   "cell_type": "markdown",
   "id": "e9a1cd8b",
   "metadata": {},
   "source": [
    "#### Hugging Face Pipeline"
   ]
  },
  {
   "cell_type": "markdown",
   "id": "fcece87c",
   "metadata": {},
   "source": [
    "Goal: To create a QA pipeline and test it on a single text chunk from your PDF to see it in action."
   ]
  },
  {
   "cell_type": "code",
   "execution_count": 128,
   "id": "c70373fc",
   "metadata": {},
   "outputs": [
    {
     "data": {
      "application/vnd.jupyter.widget-view+json": {
       "model_id": "b723f85ddede4c4e959550699ba34535",
       "version_major": 2,
       "version_minor": 0
      },
      "text/plain": [
       "Fetching 0 files: 0it [00:00, ?it/s]"
      ]
     },
     "metadata": {},
     "output_type": "display_data"
    },
    {
     "data": {
      "application/vnd.jupyter.widget-view+json": {
       "model_id": "29694c103fa4412e9a2364c810cdfb5c",
       "version_major": 2,
       "version_minor": 0
      },
      "text/plain": [
       "Fetching 1 files:   0%|          | 0/1 [00:00<?, ?it/s]"
      ]
     },
     "metadata": {},
     "output_type": "display_data"
    },
    {
     "data": {
      "application/vnd.jupyter.widget-view+json": {
       "model_id": "240d9b03a2a74faab9d4ef75c69a387a",
       "version_major": 2,
       "version_minor": 0
      },
      "text/plain": [
       "Fetching 0 files: 0it [00:00, ?it/s]"
      ]
     },
     "metadata": {},
     "output_type": "display_data"
    },
    {
     "name": "stderr",
     "output_type": "stream",
     "text": [
      "Device set to use mps:0\n"
     ]
    },
    {
     "name": "stdout",
     "output_type": "stream",
     "text": [
      "--- Context for QA Test (from Page 236) ---\n",
      "About the Author\n",
      "James Clear's work has appeared in the New York Times, Time, and\n",
      "Entrepreneur, and on CBS This Morning, and is taught in colleges around the\n",
      "world. His website, jamesclear.com, receives millions of visitors each month,\n",
      "and hundreds of thousands subscribe to his email newsletter. He is the creator of\n",
      "The Habits Academy, the premier training platform for organizations and\n",
      "individuals that are interested in building better habits in life and work.\n",
      "\n",
      "\n",
      "This is the chunk☝🏼\n",
      "\n",
      "{'score': 0.9961872696876526, 'start': 17, 'end': 28, 'answer': 'James Clear'}\n"
     ]
    }
   ],
   "source": [
    "# Import the Tool\n",
    "from transformers import pipeline\n",
    "\n",
    "# Hire Assistant\n",
    "qa_pipe = pipeline(task=\"question-answering\", model=\"distilbert-base-cased-distilled-squad\")\n",
    "\n",
    "# Testing phase 3\n",
    "# Prepare the \"Work Documents\"\n",
    "question = \"What is the author's full name?\"\n",
    "# We grab the dictionary at index 3, then get the value from the 'text_chunk' key\n",
    "context = final_chunked_data[1]['text_chunk']\n",
    "\n",
    "# Find the specific chunk for our test\n",
    "# We can do this with a simple loop or list comprehension\n",
    "context_chunk = None\n",
    "for chunk in final_chunked_data:\n",
    "    if chunk['page_num'] == 236:\n",
    "        context_chunk = chunk\n",
    "        break # Stop after we find the first one\n",
    "\n",
    "# Now, get just the text from that chunk\n",
    "if context_chunk:\n",
    "    context = context_chunk['text_chunk']\n",
    "    print(\"--- Context for QA Test (from Page 236) ---\")\n",
    "    print(context)\n",
    "else:\n",
    "    print(\"Could not find a chunk for page 236.\")\n",
    "\n",
    "print(\"\\nThis is the chunk☝🏼\\n\")\n",
    "\n",
    " # Give the command\n",
    "result = qa_pipe(question=question,context=context)\n",
    "print(result)\n"
   ]
  },
  {
   "cell_type": "markdown",
   "id": "2ca60605",
   "metadata": {},
   "source": [
    "# Phase 4: The Answer Aggregator"
   ]
  },
  {
   "cell_type": "markdown",
   "id": "7ada6f7b",
   "metadata": {},
   "source": [
    " Goal: Write a function that takes a question and your final_chunked_data list as input, and returns the single best answer found anywhere in the document."
   ]
  },
  {
   "cell_type": "code",
   "execution_count": 129,
   "id": "ecf4b3ba",
   "metadata": {},
   "outputs": [],
   "source": [
    "# We'll use tqdm for a progress bar, as this will be a slow process.\n",
    "from tqdm.auto import tqdm\n",
    "# For voting\n",
    "from collections import Counter # a tool that is a  specialized dictionary subclass designed for easily counting hashable objects. It stores elements as dictionary keys and their counts as dictionary values.\n",
    "# Function\n",
    "def get_answer(question , final_chunked_data, confidence_threshold=0.10):\n",
    "    # Prepare a \"Candidate List\"\n",
    "    candidate_answers = [] # List\n",
    "    # the loop\n",
    "    for chunk in tqdm(final_chunked_data):\n",
    "        context = chunk['text_chunk']\n",
    "        page_num = chunk['page_num']\n",
    "        # implementing QA pipeline\n",
    "        result = qa_pipe(question=question,context=context)\n",
    "\n",
    "        # --- THE FINAL, ROBUST SAFETY CHECK ---\n",
    "        # The pipeline can return a dictionary, a list, or be empty.\n",
    "        # This code handles all cases.\n",
    "        \n",
    "        # 1. Determine if we have a valid result to work with\n",
    "        if isinstance(result, list) and result:\n",
    "            # If it's a non-empty list, grab the first dictionary\n",
    "            result_dict = result[0]\n",
    "        elif isinstance(result, dict):\n",
    "            # If it's already a dictionary, just use it\n",
    "            result_dict = result\n",
    "        else:\n",
    "            # If it's empty or something else, skip this chunk\n",
    "            continue\n",
    "\n",
    "        if result_dict:\n",
    "          # add page no to this result\n",
    "          result_dict['page_num'] = page_num\n",
    "          candidate_answers.append(result_dict)\n",
    "\n",
    "    # The \"Filtering\" Phase    \n",
    "    # <=== We need to throw out all the low-confidence, nonsensical answers before we do anything else ===>\n",
    "    confidence_answers = [ans for ans in candidate_answers if ans['score'] > confidence_threshold] # List comprehension\n",
    "    if not confidence_answers:\n",
    "        return {\"Sorry , No answers found\"}\n",
    "    \n",
    "    # The \"Voting\" phase\n",
    "    answers = [ans['answer'] for ans in confidence_answers] # list comprehension\n",
    "    # most_common() method:\n",
    "    # This method returns a list of the n most common elements and their counts, sorted from most to least common.\n",
    "    counts = Counter(answers).most_common(1)\n",
    "    # The result will be a list containing a tuple, like [('James Clear', 5)]. \n",
    "    # You need to extract just the string \"James Clear\". Store this in a variable called most_common_answer_text\n",
    "    most_common_answer = counts[0][0]\n",
    "\n",
    "    # The Final Selection phase\n",
    "    # Find the instance of the most common answer that has the highest score\n",
    "    best_instance_of_common_answer = max(\n",
    "        [ans for ans in confidence_answers if ans['answer'] == most_common_answer],\n",
    "        key=lambda x: x['score']\n",
    "    )\n",
    "\n",
    "    return best_instance_of_common_answer"
   ]
  },
  {
   "cell_type": "code",
   "execution_count": 131,
   "id": "8775762f",
   "metadata": {},
   "outputs": [
    {
     "data": {
      "application/vnd.jupyter.widget-view+json": {
       "model_id": "4d72f3c749214de7bbfec110d1cddf74",
       "version_major": 2,
       "version_minor": 0
      },
      "text/plain": [
       "  0%|          | 0/1158 [00:00<?, ?it/s]"
      ]
     },
     "metadata": {},
     "output_type": "display_data"
    },
    {
     "name": "stdout",
     "output_type": "stream",
     "text": [
      "\n",
      "--- The Final, Best Answer ---\n",
      "Answer: 'relaxing'\n",
      "Confidence Score: 0.9022\n",
      "Found on Page: 182\n"
     ]
    }
   ],
   "source": [
    "\n",
    "# --- Let's test our \"Editor-in-Chief\" function ---\n",
    "question = \"How should I remain focused all day\"\n",
    "final_answer = get_answer(question, final_chunked_data)\n",
    "\n",
    "# --- Print the final result ---\n",
    "print(\"\\n--- The Final, Best Answer ---\")\n",
    "print(f\"Answer: '{final_answer.get('answer', 'N/A')}'\")\n",
    "print(f\"Confidence Score: {final_answer.get('score', 0):.4f}\")\n",
    "print(f\"Found on Page: {final_answer.get('page_num', 'N/A')}\")"
   ]
  }
 ],
 "metadata": {
  "kernelspec": {
   "display_name": "ml_env",
   "language": "python",
   "name": "python3"
  },
  "language_info": {
   "codemirror_mode": {
    "name": "ipython",
    "version": 3
   },
   "file_extension": ".py",
   "mimetype": "text/x-python",
   "name": "python",
   "nbconvert_exporter": "python",
   "pygments_lexer": "ipython3",
   "version": "3.10.18"
  }
 },
 "nbformat": 4,
 "nbformat_minor": 5
}
