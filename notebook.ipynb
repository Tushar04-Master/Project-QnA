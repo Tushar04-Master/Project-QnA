{
 "cells": [
  {
   "cell_type": "markdown",
   "id": "9a3b432b",
   "metadata": {},
   "source": [
    "# The PDF parser\n"
   ]
  },
  {
   "cell_type": "markdown",
   "id": "dc16f316",
   "metadata": {},
   "source": [
    "**Goal:** Extract clean text and page numbers from a user-uploaded PDF."
   ]
  },
  {
   "cell_type": "code",
   "execution_count": 3,
   "id": "d0055c28",
   "metadata": {},
   "outputs": [],
   "source": [
    "import fitz  # Import the PyMuPDF library"
   ]
  },
  {
   "cell_type": "code",
   "execution_count": 4,
   "id": "dc6cce19",
   "metadata": {},
   "outputs": [],
   "source": [
    "# Define a function to accept pdf with its path\n",
    "def extract_text_from_pdf(pdf_path):\n",
    "    doc = fitz.open(pdf_path) # Open the Document\n",
    "    # Preparing \"Collection Basket\"\n",
    "    pages_data = [] \n",
    "    # loop through each page in the doc\n",
    "    for page_no , page in enumerate(doc , start=1):\n",
    "        texts = page.get_text()\n",
    "        page_dict = {\"page_no\":page_no , \"text\":texts}\n",
    "        pages_data.append(page_dict)\n",
    "\n",
    "    return pages_data        "
   ]
  }
 ],
 "metadata": {
  "kernelspec": {
   "display_name": "ml_env",
   "language": "python",
   "name": "python3"
  },
  "language_info": {
   "codemirror_mode": {
    "name": "ipython",
    "version": 3
   },
   "file_extension": ".py",
   "mimetype": "text/x-python",
   "name": "python",
   "nbconvert_exporter": "python",
   "pygments_lexer": "ipython3",
   "version": "3.10.18"
  }
 },
 "nbformat": 4,
 "nbformat_minor": 5
}
