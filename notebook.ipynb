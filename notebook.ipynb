{
 "cells": [
  {
   "cell_type": "markdown",
   "id": "9a3b432b",
   "metadata": {},
   "source": [
    "# Phase 1: The PDF parser\n"
   ]
  },
  {
   "cell_type": "markdown",
   "id": "dc16f316",
   "metadata": {},
   "source": [
    "**Goal:** Extract clean text and page numbers from a user-uploaded PDF."
   ]
  },
  {
   "cell_type": "code",
   "execution_count": 15,
   "id": "dc6cce19",
   "metadata": {},
   "outputs": [],
   "source": [
    "import fitz  # Import the PyMuPDF library\n",
    "# Define a function to accept pdf with its path\n",
    "def extract_text_from_pdf(pdf_path):\n",
    "    doc = fitz.open(pdf_path) # Open the Document\n",
    "    # Preparing \"Collection Basket\"\n",
    "    pages_data = [] \n",
    "    # loop through each page in the doc\n",
    "    for page_no , page in enumerate(doc , start=1):\n",
    "        texts = page.get_text()\n",
    "        page_dict = {\"page_no\":page_no , \"text\":texts}\n",
    "        pages_data.append(page_dict)\n",
    "\n",
    "    return pages_data        "
   ]
  },
  {
   "cell_type": "code",
   "execution_count": 16,
   "id": "d979a796",
   "metadata": {},
   "outputs": [
    {
     "name": "stdout",
     "output_type": "stream",
     "text": [
      "The PDF has 729 pages.\n",
      "\n",
      "Data from the first page:\n",
      "{'page_no': 27, 'text': 'Chapter 1: Getting Started                                           9 \\nrange is –32768 to 32767. For a 32-bit compiler the range would \\nbe even greater. Question like what exactly do you mean by a 16-\\nbit or a 32-bit compiler, what range of an Integer constant has to \\ndo with the type of compiler and such questions are discussed in \\ndetail in Chapter 16. Till that time it would be assumed that we are \\nworking with a 16-bit compiler. \\n \\nEx.:   426 \\n \\n  +782 \\n \\n  -8000 \\n \\n  -7605 \\n \\nRules for Constructing Real Constants \\nReal constants are often called Floating Point constants. The real \\nconstants could be written in two forms—Fractional form and \\nExponential form. \\nFollowing rules must be observed while constructing real \\nconstants expressed in fractional form: \\n \\n(a) \\n(b) \\n(c) \\n(d) \\n(e) \\nA real constant must have at least one digit. \\nIt must have a decimal point. \\nIt could be either positive or negative. \\nDefault sign is positive. \\nNo commas or blanks are allowed within a real constant. \\n \\nEx.:   +325.34 \\n        426.0 \\n        -32.76 \\n        -48.5792  \\nThe exponential form of representation of real constants is usually \\nused if the value of the constant is either too small or too large. It \\nhowever doesn’t restrict us in any way from using exponential \\nform of representation for other real constants.  \\n'}\n",
      "\n",
      "Just the text from the first page:\n",
      "Chapter 1: Getting Started                                           9 \n",
      "range is –32768 to 32767. For a 32-bit compiler the range would \n",
      "be even greater. Question like what exactly do you mean by a 16-\n",
      "bit or a 32-bit compiler, what range of an Integer constant has to \n",
      "do with the type of compiler and such questions are discussed in \n",
      "detail in Chapter 16. Till that time it would be assumed that we are \n",
      "working with a 16-bit compiler. \n",
      " \n",
      "Ex.:   426 \n",
      " \n",
      "  +782 \n",
      " \n",
      "  -8000 \n",
      " \n",
      "  -7605 \n",
      " \n",
      "Rules for Constructing Real Constants \n",
      "Real constants are often called Floating Point constants. The real \n",
      "constants could be written in two forms—Fractional form and \n",
      "Exponential form. \n",
      "Following rules must be observed while constructing real \n",
      "constants expressed in fractional form: \n",
      " \n",
      "(a) \n",
      "(b) \n",
      "(c) \n",
      "(d) \n",
      "(e) \n",
      "A real constant must have at least one digit. \n",
      "It must have a decimal point. \n",
      "It could be either positive or negative. \n",
      "Default sign is positive. \n",
      "No commas or blanks are allowed within a real constant. \n",
      " \n",
      "Ex.:   +325.34 \n",
      "        426.0 \n",
      "        -32.76 \n",
      "        -48.5792  \n",
      "The exponential form of representation of real constants is usually \n",
      "used if the value of the constant is either too small or too large. It \n",
      "however doesn’t restrict us in any way from using exponential \n",
      "form of representation for other real constants.  \n",
      "\n"
     ]
    }
   ],
   "source": [
    "# Testing\n",
    "path = \"/Users/tushar04master/Documents/Project QnA/samples/Let Us C By Yashwant Kanetkar.pdf\"\n",
    "extracted_data = extract_text_from_pdf(path)\n",
    "print(f\"The PDF has {len(extracted_data)} pages.\")\n",
    "print(\"\\nData from the first page:\")\n",
    "print(extracted_data[26])\n",
    "print(\"\\nJust the text from the first page:\")\n",
    "print(extracted_data[26]['text'])"
   ]
  },
  {
   "cell_type": "markdown",
   "id": "be1dc2b6",
   "metadata": {},
   "source": [
    "# Phase 2: The Document Processor (The \"Chunker\")"
   ]
  },
  {
   "cell_type": "markdown",
   "id": "e03d7ddf",
   "metadata": {},
   "source": [
    "#### Problem:\n",
    "The transformer models we use for Question Answering have a \"short attention span.\" They can only read a certain amount of text at one time (typically around 512 tokens, which is roughly 300-400 words). If you give them an entire page from a book, which could have thousands of words, they get overwhelmed and can't process it."
   ]
  },
  {
   "cell_type": "markdown",
   "id": "f2728d9a",
   "metadata": {},
   "source": [
    "#### Solution: \n",
    "We need to be like a book editor. We will take the long scroll of text from each page and cut it into smaller, standard-sized paragraphs or \"chunks.\" We'll also make these chunks overlap slightly, so if an important sentence gets cut in half at the end of one chunk, it will be complete at the beginning of the next."
   ]
  },
  {
   "cell_type": "markdown",
   "id": "91b8caee",
   "metadata": {},
   "source": [
    "#### Goal:\n",
    " Write a function that takes the list_of_pages we created in Phase 1 and returns a new, much longer list. Each item in this new list will be a dictionary containing a page_num and a small chunk_of_text."
   ]
  },
  {
   "cell_type": "code",
   "execution_count": 17,
   "id": "902f6d82",
   "metadata": {},
   "outputs": [],
   "source": [
    "# Creating function for text chunker\n",
    "def chunk_text(pages_data,chunk_size,chunk_overlap): # it's input is the output of the previous function . A list .\n",
    "    # Prepare a New \"Collection Basket\"\n",
    "    chunks = []\n",
    "    # The Outer loop\n",
    "    for page_item in pages_data:\n",
    "        page_num = page_item['page_no']\n",
    "        page_text = page_item['text']\n",
    "        \n",
    "        # --- Step 2: Apply the sliding window logic to the text of THIS page ---\n",
    "        for i in range(0, len(page_text), chunk_size - chunk_overlap):\n",
    "            \n",
    "            # Get a slice of the page's text\n",
    "            chunk_text = page_text[i : i + chunk_size]\n",
    "            \n",
    "            # --- Step 3: Create the final dictionary with metadata ---\n",
    "            chunk_dict = {\n",
    "                \"page_num\": page_num,\n",
    "                \"text_chunk\": chunk_text\n",
    "            }\n",
    "            \n",
    "            # --- Step 4: Add the dictionary to our final list ---\n",
    "            chunks.append(chunk_dict)\n",
    "            \n",
    "    return chunks         "
   ]
  },
  {
   "cell_type": "markdown",
   "id": "c7497c83",
   "metadata": {},
   "source": [
    "if we just jumped by the full chunk_size, there would be no overlap. By jumping forward by chunk_size - chunk_overlap, we ensure the start of the new chunk begins inside the end of the old one."
   ]
  },
  {
   "cell_type": "code",
   "execution_count": 18,
   "id": "fdecb546",
   "metadata": {},
   "outputs": [
    {
     "name": "stdout",
     "output_type": "stream",
     "text": [
      "Chunking the document with the new function...\n",
      "Chunking complete! ✅\n",
      "\n",
      "Original number of pages: 729\n",
      "Number of chunks after processing: 2246\n",
      "\n",
      "--- Example Chunks with Page Numbers ---\n",
      "{'page_num': 1, 'text_chunk': ' \\n \\nUploaded By Mohd Khushhal \\nE-Mail- m.khushhal@gmail.com \\n \\n              m.khushhal@engineer.com\\nFor More E-Books visit-  mkhushhal.blogspot.in \\n \\n'}\n",
      "{'page_num': 2, 'text_chunk': ' \\n \\n \\n \\n \\nLet Us C \\nFifth Edition \\n \\n \\nYashavant P. Kanetkar \\n \\n \\n \\n \\n \\n \\n'}\n",
      "{'page_num': 3, 'text_chunk': ' \\n \\n \\n \\n \\n \\n \\n \\n \\n \\n \\n \\n \\n \\n \\n \\n \\n \\n \\n \\n \\n \\n \\n \\n \\n \\n \\n \\n \\n \\n \\n \\n \\n \\n \\n \\n \\n \\n \\n \\n \\n'}\n",
      "{'page_num': 4, 'text_chunk': ' \\n \\n \\n \\n \\n \\n \\n \\n \\n \\n \\n \\n \\n \\n \\n \\n \\n \\nDedicated to baba \\nWho couldn’t be here to see this day... \\n \\n \\n \\n \\n \\n \\n \\n \\n \\n \\n \\n \\n \\n \\n \\n \\n \\n \\n \\n'}\n",
      "{'page_num': 5, 'text_chunk': 'About the Author \\nDestiny drew Yashavant Kanetkar towards computers when the IT \\nindustry was just making a beginning in India. Having completed \\nhis education from VJTI Mumbai and IIT Kanpur in Mechanical \\nEngineering he started his training company in Nagpur. \\nYashavant has a passion for writing and is an author of several \\nbooks in C, C++, VC++, C#, .NET, DirectX and COM \\nprogramming. He is a much sought after speaker on various \\ntechnology subjects and is a regular columnist for Express \\nCom'}\n",
      "{'page_num': 5, 'text_chunk': 'bjects and is a regular columnist for Express \\nComputers and Developer 2.0. His current affiliations include \\nbeing a Director of KICIT, a training company and DCube \\nSoftware Technologies, a software development company. In \\nrecognition to his contribution Microsoft awarded him the \\nprestigious “Best .NET Technical Contributor” award recently. \\nHe can be reached at kanetkar@kicit.com. \\n \\n \\n \\n \\n \\n       \\n \\n'}\n",
      "{'page_num': 6, 'text_chunk': 'Acknowledgments \\nIt has been a journey of almost a decade from the stage the book \\nidea of “Let Us C” was conceived up to the release of this Fifth \\nEdition. During this journey I have met so many students, \\ndevelopers, professors, publishers and authors who expressed their \\nopinions about Let Us C. They have been the main motivators in \\nmy effort to continuously improve this book. \\nIn particular I am indebted to Manish Jain who had a faith in this \\nbook idea, believed in my writing ability, whi'}\n",
      "{'page_num': 6, 'text_chunk': 'is \\nbook idea, believed in my writing ability, whispered the words of \\nencouragement and made helpful suggestions from time to time. \\nThe five editions of this book saw several changes and facelifts. \\nDuring this course people like Ajay Joshi, Amol Tambat, Ajay \\nDaga, Nandita Shastri, Mrunal Khandekar and Rahul Bedge \\nhelped in writing programs, spotting bugs, drawing figures and \\npreparing index. I trust that with their collective acumen all the \\nprograms would run correctly in all situations. '}\n",
      "{'page_num': 6, 'text_chunk': ' \\nprograms would run correctly in all situations.  \\nAnup Das, my colleague has a lot of influence on this Fifth \\nEdition. He helped my clarify my thoughts and pointing me in the \\ndirection of Windows and Linux. He sincerely wanted this edition \\nto offer “C, in today’s perspective”. I am hopeful that his dream \\nhas been realized. \\nI thank Seema, my wife, for her friendship and for her \\ncontributions in everything that I do in IT in ways more than she \\ncould ever guess. Though she is a Gynecologis'}\n",
      "{'page_num': 6, 'text_chunk': 'she \\ncould ever guess. Though she is a Gynecologist by profession she \\nhas the uncanny ability to come up with suggestions that make me \\nfeel “Oh, why didn’t it occur to me”. \\nAnd finally my heartfelt gratitude to the countless students who \\nmade me look into every nook and cranny of C. I would forever \\nremain indebted to them.. \\nv\\n \\n'}\n",
      "{'page_num': 7, 'text_chunk': 'Preface to the Fifth Edition \\nIt is mid 2004. World has left behind the DOTCOM bust, 9/11 \\ntragedy, the economic downturn, etc. and moved on. Countless \\nIndians have relentlessly worked for close to two decades to \\nsuccessfully establish “India” as a software brand. At times I take \\nsecret pleasure in seeing that a book that I have been part of, has \\ncontributed in its own little way in shaping so many budding \\ncareers that have made the “India” brand acceptable. \\nComputing and the way people us'}\n",
      "{'page_num': 7, 'text_chunk': 'brand acceptable. \\nComputing and the way people use C for doing it keeps changing \\nas years go by. So overwhelming has been the response to all the \\nprevious editions of “Let Us C” that I have now decided that each \\nyear I would come up with a new edition of it so that I can keep \\nthe readers abreast with the way C is being used at that point in \\ntime.  \\nThere are two phases in every C programmer’s life. In the first \\nphase he is a learner trying to understand the language elements \\nand their nu'}\n",
      "{'page_num': 7, 'text_chunk': ' to understand the language elements \\nand their nuances. At this stage he wants a simple learning \\nenvironment that helps him to master the language. In my opinion, \\neven today there isn’t any learning environment that can beat \\nTurbo C/C++ for simplicity. Hence the first fifteen chapters are \\nwritten keeping this environment in mind, though a majority of \\nthese programs in these chapters would work with any C compiler.  \\nArmed with the knowledge of language elements the C \\nprogrammer enters the'}\n",
      "{'page_num': 7, 'text_chunk': ' of language elements the C \\nprogrammer enters the second phase. Here he wishes to use all that \\nhe has learnt to create programs that match the ability of programs \\nthat he see in today’s world. I am pointing towards programs in \\nWindows and Linux world. Chapters 16 to 21 are devoted to this. I \\nwould like to your attention the fact that if you want to program \\nWindows or Linux you need to have a very good grasp over the \\nprogramming model used by each of these OS. Windows \\nmessaging architectu'}\n",
      "{'page_num': 7, 'text_chunk': 'by each of these OS. Windows \\nmessaging architecture and Linux signaling mechanism are the \\ncases in point. Once you understand these thoroughly rest is just a \\nvi\\n \\n'}\n",
      "{'page_num': 8, 'text_chunk': 'matter of time. Chapters 16 to 21 have been written with this \\nmotive.  \\nIn Linux programming the basic hurdle is in choosing the Linux \\ndistribution, compiler, editor, shell, libraries, etc. To get a head-\\nstart you can follow the choices that I found most reasonable and \\nsimple. They have been mentioned in Chapter 20 and Appendix H. \\nOnce you are comfortable you can explore other choices. \\nIn fourth edition of Let Us C there were chapters on ‘Disk Basics’, \\n‘VDU Basics’, ‘Graphics’, ‘Mouse Pro'}\n",
      "{'page_num': 8, 'text_chunk': 'isk Basics’, \\n‘VDU Basics’, ‘Graphics’, ‘Mouse Programming’, ‘C and \\nAssembly’. Though I used to like these chapters a lot I had to take \\na decision to drop them since most of them were DOS-centric and \\nwould not be so useful in modern-day programming. Modern \\ncounterparts of all of these have been covered in Chapters 16 to \\n21. However, if you still need the chapters from previous edition \\nthey are available at www.kicit.com/books/letusc/fourthedition.  \\nAlso, all the programs present in the bo'}\n",
      "{'page_num': 8, 'text_chunk': 'dition.  \\nAlso, all the programs present in the book are available in source \\ncode form at www.kicit.com/books/letusc/sourcecode. You are \\nfree to download them, improve them, change them, do whatever \\nwith them. If you wish to get solutions for the Exercises in the \\nbook they are available in another book titled ‘Let Us C \\nSolutions’. \\n‘Let Us C’ is as much your book as it is mine. So if you feel that I \\ncould have done certain job better than what I have, or you have \\nany suggestions about wha'}\n",
      "{'page_num': 8, 'text_chunk': 'hat I have, or you have \\nany suggestions about what you would like to see in the next \\nedition, please drop a line to letuscsuggestions@kicit.com. \\nAll the best and happy programming! \\n \\n \\n \\nvii\\n \\n'}\n",
      "{'page_num': 9, 'text_chunk': 'Contents \\n1. \\n2. \\nGetting Started   \\n \\n \\n \\n \\n     1 \\n \\nWhat is C   \\n \\n \\n \\n \\n \\n     2 \\nGetting Started with C \\n \\n \\n \\n \\n     4 \\nThe C Character Set  \\n \\n \\n \\n     5 \\nConstants, Variables and Keywords  \\n \\n     6 \\nTypes of C Constants  \\n \\n \\n \\n     7 \\nRules for Constructing Integer Constants \\n \\n     8 \\nRules for Constructing Real Constants \\n \\n     9 \\nRules for Constructing Character Constants  \\n   10 \\nTypes of C Variables  \\n \\n \\n \\n   11 \\nRules for Constructing Variable Names \\n \\n   11 \\nC Keywords  \\n \\n \\n '}\n",
      "{'page_num': 9, 'text_chunk': 'ucting Variable Names \\n \\n   11 \\nC Keywords  \\n \\n \\n \\n \\n   12 \\nThe First C Program \\n \\n \\n \\n \\n   13 \\nCompilation and Execution                                                   19 \\nReceiving Input                                                                      21 \\nC Instructions  \\n \\n \\n \\n \\n \\n   23 \\nType Declaration Instruction  \\n \\n \\n   24 \\nArithmetic Instruction  \\n \\n \\n \\n   25 \\nInteger and Float Conversions  \\n \\n \\n   29 \\nType Conversion in Assignments                                  29 \\nHierarchy '}\n",
      "{'page_num': 9, 'text_chunk': 'ts                                  29 \\nHierarchy of Operations  \\n \\n \\n \\n   31 \\nAssociativity of Operators                                              34 \\nControl Instructions in C  \\n \\n \\n \\n   37 \\nSummary                                                                                37 \\nExercise  \\n \\n \\n \\n \\n \\n   38 \\n \\nThe Decision Control Structure \\n \\n \\n   49 \\n \\nDecisions! Decisions!  \\n \\n \\n \\n \\n   50 \\nThe if Statement   \\n \\n \\n \\n \\n   51 \\nThe Real Thing                                                  '}\n",
      "{'page_num': 9, 'text_chunk': '                                                               55 \\nMultiple Statements within if  \\n \\n \\n   56 \\nThe if-else Statement \\n \\n \\n \\n \\n   58 \\nviii\\n \\n'}\n",
      "{'page_num': 10, 'text_chunk': 'Nested if-elses \\n \\n \\n \\n \\n   61 \\nForms of if \\n \\n \\n \\n \\n \\n   62 \\nUse of Logical Operators  \\n \\n \\n \\n   64 \\nThe else if Clause \\n \\n \\n \\n \\n   66 \\nThe ! Operator \\n \\n \\n \\n \\n   72 \\nHierarchy of Operators Revisited                                   73 \\nA Word of Caution \\n \\n \\n \\n \\n   73 \\nThe Conditional Operators \\n \\n \\n \\n   76 \\nSummary                                                                                77 \\nExercise   \\n \\n \\n \\n \\n \\n   78 \\n \\n3. \\n4. \\nThe Loop Control Structure  \\n \\n \\n \\n   97 \\n \\nLoops \\n \\n \\n \\n'}\n",
      "{'page_num': 10, 'text_chunk': 'p Control Structure  \\n \\n \\n \\n   97 \\n \\nLoops \\n \\n \\n \\n \\n \\n \\n   98 \\nThe while Loop \\n \\n \\n \\n \\n \\n   99 \\nTips and Traps \\n \\n \\n \\n \\n 101 \\nMore Operators \\n \\n \\n \\n \\n 105 \\nThe for Loop \\n \\n \\n \\n \\n \\n 107 \\nNesting of Loops \\n \\n \\n \\n \\n 114 \\nMultiple Initialisations in the for Loop \\n \\n 115 \\nThe Odd Loop \\n \\n \\n \\n \\n \\n 116 \\nThe break Statement \\n \\n \\n \\n \\n 118 \\nThe continue Statement \\n \\n \\n \\n \\n 120 \\nThe do-while Loop \\n \\n \\n \\n \\n 121 \\nSummary                                                                              124 \\nExerci'}\n",
      "{'page_num': 10, 'text_chunk': '                                       124 \\nExercise  \\n \\n \\n \\n \\n \\n 124 \\n \\nThe Case Control Structure  \\n \\n \\n \\n 135 \\n \\nDecisions Using switch \\n \\n \\n \\n \\n 136 \\nThe Tips and Traps  \\n \\n \\n \\n 140 \\nswitch Versus if-else Ladder                                                144 \\nThe goto Keyword \\n \\n \\n \\n \\n 145 \\nSummary                                                                              148 \\nExercise  \\n \\n \\n \\n \\n \\n 149 \\n \\nix\\n \\n'}\n",
      "{'page_num': 11, 'text_chunk': '5. \\n6. \\nFunctions & Pointers \\n \\n \\n \\n \\n157 \\n \\nWhat is a Function \\n \\n \\n \\n \\n 158 \\nWhy Use Functions  \\n \\n \\n \\n 165 \\nPassing Values between Functions \\n \\n \\n 166 \\nScope Rule of Functions  \\n \\n \\n \\n 171 \\nCalling Convention \\n \\n \\n \\n \\n 172 \\nOne Dicey Issue  \\n \\n \\n \\n \\n 173  \\nAdvanced Features of Functions  \\n \\n \\n 174 \\nFunction Declaration and Prototypes  \\n \\n 175 \\nCall by Value and Call by Reference  \\n \\n 178 \\nAn Introduction to Pointers  \\n \\n \\n 178 \\nPointer Notation \\n \\n \\n \\n \\n 179 \\nBack to Function Calls \\n \\n \\n \\n 18'}\n",
      "{'page_num': 11, 'text_chunk': 'n \\n \\n \\n \\n \\n 179 \\nBack to Function Calls \\n \\n \\n \\n 186 \\nConclusions  \\n \\n \\n \\n \\n 189 \\nRecursion \\n \\n \\n \\n \\n \\n 189 \\n       Recursion and Stack                                                      194 \\nAdding Functions to the Library  \\n \\n \\n 197 \\nSummary                                                                              201 \\nExercise  \\n \\n \\n \\n \\n \\n 201 \\n \\nData Types Revisited  \\n \\n \\n \\n \\n 213 \\n \\nIntegers, long and short \\n \\n \\n \\n \\n 214 \\nIntegers, signed and unsigned \\n \\n \\n \\n 216 \\nChars, signed and unsi'}\n",
      "{'page_num': 11, 'text_chunk': 'd and unsigned \\n \\n \\n \\n 216 \\nChars, signed and unsigned \\n \\n \\n \\n 217 \\nFloats and Doubles \\n \\n \\n \\n \\n 219 \\nA Few More Issues…                                                          221 \\nStorage Classes in C \\n \\n \\n \\n \\n 223 \\nAutomatic Storage Class \\n \\n \\n \\n 224 \\nRegister Storage Class \\n \\n \\n \\n 226 \\nStatic Storage Class  \\n \\n \\n \\n 227 \\nExternal Storage Class \\n \\n \\n \\n 230 \\nWhich to Use When  \\n \\n \\n \\n 233 \\nSummary                                                                              234 \\nExercise  \\n \\n \\n'}\n",
      "{'page_num': 11, 'text_chunk': '                              234 \\nExercise  \\n \\n \\n \\n \\n \\n 235 \\nx\\n \\n'}\n",
      "{'page_num': 12, 'text_chunk': ' \\nThe C Preprocessor \\n \\n \\n \\n \\n 241 \\n \\nFeatures of C Preprocessor \\n \\n \\n \\n 242 \\nMacro Expansion  \\n \\n \\n \\n \\n 244 \\nMacros with Arguments \\n \\n \\n \\n 248 \\nMacros versus Functions \\n \\n \\n \\n 252 \\nFile Inclusion \\n \\n \\n \\n \\n \\n 253 \\nConditional Compilation  \\n \\n \\n \\n 255 \\n#if and #elif Directives \\n \\n \\n \\n \\n 258 \\nMiscellaneous Directives  \\n \\n \\n \\n 260 \\n#undef Directive \\n \\n \\n \\n \\n 260 \\n#pragma Directive \\n \\n \\n \\n \\n 261 \\nSummary  \\n \\n \\n \\n \\n \\n 263 \\nExercise  \\n \\n \\n \\n \\n \\n 264 \\n \\n7. \\n8. Arrays \\n \\n \\n \\n \\n \\n \\n 269 \\n \\nWhat are Array'}\n",
      "{'page_num': 12, 'text_chunk': '\\n7. \\n8. Arrays \\n \\n \\n \\n \\n \\n \\n 269 \\n \\nWhat are Arrays  \\n \\n \\n \\n \\n 270 \\nA Simple Program Using Array \\n \\n \\n 272 \\nMore on Arrays \\n \\n \\n \\n \\n \\n 275 \\nArray Initialization \\n \\n \\n \\n \\n 275 \\nBounds Checking \\n \\n \\n \\n \\n 276 \\nPassing Array Elements to a Function \\n \\n 277 \\nPointers and Arrays \\n \\n \\n \\n \\n 279 \\nPassing an Entire Array to a Function \\n \\n 286 \\nThe Real Thing \\n \\n \\n \\n \\n 287 \\nTwo Dimensional Arrays    \\n \\n \\n \\n 289 \\nInitializing a 2-Dimensional Array \\n \\n \\n 290 \\nMemory Map of a 2-Dimensional Array \\n \\n 291 \\nPoint'}\n",
      "{'page_num': 12, 'text_chunk': 'Memory Map of a 2-Dimensional Array \\n \\n 291 \\nPointers and 2-Dimensional Arrays  \\n \\n 292 \\nPointer to an Array \\n \\n \\n \\n \\n 295 \\nPassing 2-D array to a Function \\n \\n \\n 297 \\nArray of Pointers  \\n \\n \\n \\n             300 \\nThree Dimensional Array  \\n \\n \\n             302 \\nSummary  \\n \\n \\n \\n \\n \\n 304 \\nxi\\n \\n'}\n",
      "{'page_num': 13, 'text_chunk': 'Exercise  \\n \\n \\n \\n \\n \\n 304 \\n \\nPuppetting On Strings \\n \\n \\n \\n \\n 327 \\n \\nWhat are Strings  \\n \\n \\n \\n \\n 328 \\nMore about Strings \\n \\n \\n \\n \\n 329 \\nPointers and Strings \\n \\n \\n \\n \\n 334 \\nStandard Library String Functions \\n \\n \\n 335 \\nstrlen( )  \\n \\n \\n \\n \\n \\n 337 \\nstrcpy( )  \\n \\n \\n \\n \\n \\n 339 \\nstrcat( )  \\n \\n \\n \\n \\n \\n 342 \\nstrcmp( )  \\n \\n \\n \\n \\n \\n 343 \\nTwo-Dimensional Array of Characters \\n \\n \\n 344 \\nArray of Pointers to Strings \\n \\n \\n \\n 347 \\nLimitation of Array of Pointers to Strings  \\n \\n 351 \\nSolution \\n \\n \\n \\n \\n \\n 352 \\nSumm'}\n",
      "{'page_num': 13, 'text_chunk': 'o Strings  \\n \\n 351 \\nSolution \\n \\n \\n \\n \\n \\n 352 \\nSummary  \\n \\n \\n \\n \\n \\n 353 \\nExercise  \\n \\n \\n \\n \\n \\n 354 \\n \\n9. \\n10.\\n11.\\n Structures \\n \\n \\n \\n \\n \\n 363 \\n \\nWhy Use Structures \\n \\n \\n \\n \\n 364 \\nDeclaring a Structure  \\n \\n \\n             367 \\nAccessing Structure Elements \\n \\n \\n 370 \\nHow Structure Elements are Stored  \\n \\n 370 \\nArray of Structures \\n \\n \\n \\n \\n 371 \\nAdditional Features of Structures  \\n \\n \\n 374 \\nUses of Structures  \\n \\n \\n \\n \\n 383 \\nSummary  \\n \\n \\n \\n \\n \\n 384 \\nExercise  \\n \\n \\n \\n \\n \\n 384 \\n \\n Console Input/Output'}\n",
      "{'page_num': 13, 'text_chunk': 'Exercise  \\n \\n \\n \\n \\n \\n 384 \\n \\n Console Input/Output \\n \\n \\n \\n \\n 393 \\n \\nTypes of I/O \\n \\n \\n \\n \\n \\n 394 \\nConsole I/O Functions \\n \\n \\n \\n \\n 395 \\nFormatted Console I/O Functions \\n \\n \\n 396 \\nxii\\n \\n'}\n",
      "{'page_num': 14, 'text_chunk': 'sprintf( ) and sscanf( ) Functions \\n \\n \\n 404 \\nUnformatted Console I/O Functions  \\n \\n 405 \\nSummary               \\n \\n \\n \\n             409 \\nExercise  \\n \\n \\n \\n \\n \\n 409 \\n \\nFile Input/Output \\n \\n \\n                        415 \\n \\nData Organization                                                                416 \\nFile Operations                                                                     417 \\nOpening a File                                                              418 \\nReading from a File     '}\n",
      "{'page_num': 14, 'text_chunk': '                     418 \\nReading from a File                                                      420 \\nTrouble in Opening a File                                            421 \\n        Closing the File                                                            422 \\nCounting Characters, Tabs, Spaces, … \\n \\n \\n 422 \\nA File-copy Program \\n \\n \\n \\n \\n 424 \\nWriting to a File                                                           425 \\nFile Opening Modes \\n \\n \\n \\n \\n 426 \\nString (line) I/O in Files  \\n \\n \\n \\n'}\n",
      "{'page_num': 14, 'text_chunk': '\\n \\n \\n \\n \\n 426 \\nString (line) I/O in Files  \\n \\n \\n \\n 427 \\nThe Awkward Newline \\n \\n \\n \\n 430 \\nRecord I/O in Files \\n \\n \\n \\n \\n 430 \\nText Files and Binary Files \\n \\n \\n \\n 434 \\nRecord I/O Revisited \\n \\n \\n \\n \\n 437 \\nDatabase Management \\n \\n \\n \\n \\n 441 \\nLow Level Disk I/O                                                             447 \\nA Low Level File-copy Program                      \\n 448 \\nI/O Under Windows \\n \\n \\n \\n \\n 453 \\nSummary                                                                              453 '}\n",
      "{'page_num': 14, 'text_chunk': '                                              453 \\nExercise  \\n \\n \\n \\n \\n \\n 454 \\n \\n12. \\n13. More Issues In Input/Output \\n \\n \\n \\n 465 \\n \\nUsing argc and argv \\n \\n \\n \\n \\n 466 \\nDetecting Errors in Reading/Writing \\n \\n \\n 470 \\nStandard I/O Devices \\n \\n \\n \\n \\n 472 \\nI/O Redirection       \\n \\n \\n \\n \\n 473 \\nRedirecting the Output \\n \\n \\n \\n 474 \\nxiii\\n \\n'}\n",
      "{'page_num': 15, 'text_chunk': 'Redirecting the Input  \\n \\n \\n             476 \\nBoth Ways at Once  \\n \\n \\n \\n 477 \\nSummary                \\n \\n \\n \\n \\n 478 \\nExercise  \\n \\n \\n \\n \\n \\n 478 \\n \\n \\n14.\\n15.\\n Operations On Bits    \\n \\n \\n                          481 \\n \\nBitwise Operators  \\n \\n \\n \\n \\n 482 \\nOne’s Complement Operator  \\n \\n \\n 484 \\nRight Shift Operator    \\n \\n \\n \\n 486 \\nLeft Shift Operator     \\n \\n \\n             488 \\nBitwise AND Operator    \\n \\n \\n \\n 493 \\nBitwise OR Operator    \\n \\n \\n \\n 498 \\nBitwise XOR Operator   \\n \\n \\n \\n 499 \\nThe showbits( ) Fun'}\n",
      "{'page_num': 15, 'text_chunk': 'se XOR Operator   \\n \\n \\n \\n 499 \\nThe showbits( ) Function  \\n \\n \\n \\n 500 \\nSummary  \\n \\n \\n \\n \\n \\n 501 \\nExercise  \\n \\n \\n \\n \\n \\n 501 \\n \\n Miscellaneous Features  \\n \\n \\n \\n 505 \\n \\nEnumerated Data Type \\n \\n \\n \\n \\n 506 \\nUses of Enumerated Data Type \\n \\n \\n 507 \\nRenaming Data Types with typedef  \\n \\n \\n 510 \\nTypecasting  \\n \\n \\n                                      511 \\nBit Fields   \\n \\n \\n                                      513 \\nPointers to Functions \\n \\n                                      515 \\nFunctions Returning Poin'}\n",
      "{'page_num': 15, 'text_chunk': '                     515 \\nFunctions Returning Pointers \\n                                      518 \\nFunctions with Variable Number of Arguments                 520 \\nUnions                           \\n                                                  524 \\nUnion of Structures                                                      530 \\nSummary  \\n \\n                                                   531 \\nExercise  \\n \\n \\n \\n \\n \\n 531 \\n \\n \\nxiv\\n \\n'}\n",
      "{'page_num': 16, 'text_chunk': ' \\nC Under Windows \\n \\n \\n \\n \\n 535 \\n \\nWhich Windows… \\n \\n \\n \\n \\n 536 \\nIntegers \\n \\n \\n \\n \\n                          537 \\nThe Use of typedef \\n \\n \\n                          537 \\nPointers in the 32-bit World \\n \\n                          539 \\nMemory Management \\n \\n \\n             540 \\nDevice Access \\n \\n \\n                          543 \\nDOS Programming Model \\n \\n                          543 \\nWindows Programming Model \\n \\n \\n             547 \\nEvent Driven Model  \\n \\n                          551 \\nWindows Programmin'}\n",
      "{'page_num': 16, 'text_chunk': '\\n                          551 \\nWindows Programming, a Closer Look \\n \\n             552 \\nThe First Windows Program \\n \\n                         554 \\nHungarian Notation \\n \\n                                      558 \\nSummary  \\n                                                               558 \\nExercise  \\n \\n \\n \\n \\n \\n 559 \\n \\n16. \\n17. \\n18. \\nWindows Programming  \\n                                    561 \\n \\nThe Role of a Message Box \\n \\n \\n \\n 562 \\nHere Comes the window… \\n \\n                          563 \\nMore '}\n",
      "{'page_num': 16, 'text_chunk': 'he window… \\n \\n                          563 \\nMore Windows \\n \\n \\n \\n \\n             566 \\nA Real-World Window \\n \\n \\n \\n \\n 567 \\nCreation and Displaying of  Window  \\n \\n 569 \\nInteraction with Window \\n \\n \\n             570 \\nReacting to Messages \\n \\n                          572 \\nProgram Instances \\n \\n \\n                          575 \\nSummary  \\n \\n \\n \\n \\n \\n 575 \\nExercise  \\n \\n \\n \\n \\n \\n 576 \\n \\nGraphics Under Windows \\n \\n \\n \\n 579 \\n \\nGraphics as of Now \\n \\n \\n \\n \\n 580 \\nDevice Independent Drawing \\n \\n \\n \\n 580 \\nxv\\n \\n'}\n",
      "{'page_num': 16, 'text_chunk': 'vice Independent Drawing \\n \\n \\n \\n 580 \\nxv\\n \\n'}\n",
      "{'page_num': 17, 'text_chunk': 'Hello Windows \\n \\n \\n \\n                          582 \\nDrawing Shapes  \\n \\n \\n                          586 \\nTypes of Pens \\n \\n \\n \\n                          590 \\nTypes of Brushes  \\n \\n \\n                          592 \\nCode and Resources  \\n \\n                          596 \\nFreehand Drawing, the Paintbrush Style                           596 \\nCapturing the Mouse  \\n \\n                          600 \\nDevice Context, a Closer Look \\n \\n                          601 \\nDisplaying a Bitmap \\n \\n \\n                      '}\n",
      "{'page_num': 17, 'text_chunk': '1 \\nDisplaying a Bitmap \\n \\n \\n                          603 \\nAnimation at Work \\n \\n \\n                          607 \\nWM_CREATE and OnCreate( ) \\n \\n             611 \\nWM_TIMER and OnTimer( ) \\n \\n             611 \\nA Few More Points… \\n \\n                          612 \\nWindows, the Endless World… \\n \\n                          613 \\nSummary  \\n                                                               614 \\nExercise  \\n \\n \\n \\n \\n \\n 615 \\n \\n19. Interaction With Hardware \\n \\n \\n \\n 617 \\n \\nHardware Interaction \\n \\n \\n \\n'}\n",
      "{'page_num': 17, 'text_chunk': 'rdware \\n \\n \\n \\n 617 \\n \\nHardware Interaction \\n \\n \\n \\n \\n 618 \\nHardware Interaction, DOS Perspective  \\n \\n 619 \\nHardware Interaction, Windows Perspective \\n \\n 623 \\nCommunication with Storage Devices \\n \\n             626 \\nThe ReadSector( ) Function                                         631 \\nAccessing Other Storage Devices  \\n \\n             633 \\nCommunication with Keyboard \\n \\n \\n \\n 634 \\nDynamic Linking                                                         635 \\nWindows Hooks                              '}\n"
     ]
    }
   ],
   "source": [
    "CHUNK_SIZE = 500\n",
    "CHUNK_OVERLAP = 50\n",
    "\n",
    "print(\"Chunking the document with the new function...\")\n",
    "final_chunked_data = chunk_text(\n",
    "    pages_data=extracted_data, \n",
    "    chunk_size=CHUNK_SIZE, \n",
    "    chunk_overlap=CHUNK_OVERLAP\n",
    ")\n",
    "print(\"Chunking complete! ✅\")\n",
    "\n",
    "# --- Inspect the new results ---\n",
    "print(f\"\\nOriginal number of pages: {len(extracted_data)}\")\n",
    "print(f\"Number of chunks after processing: {len(final_chunked_data)}\")\n",
    "\n",
    "# Look at a few chunks to verify the structure and page numbers\n",
    "print(\"\\n--- Example Chunks with Page Numbers ---\")\n",
    "if len(final_chunked_data) > 5:\n",
    "    for chunk in final_chunked_data[:50]:\n",
    "        print(chunk)\n",
    "\n"
   ]
  },
  {
   "cell_type": "markdown",
   "id": "71a5f979",
   "metadata": {},
   "source": [
    "# Phase 3: The **QA Engine** "
   ]
  },
  {
   "cell_type": "markdown",
   "id": "4948ed3c",
   "metadata": {},
   "source": []
  }
 ],
 "metadata": {
  "kernelspec": {
   "display_name": "ml_env",
   "language": "python",
   "name": "python3"
  },
  "language_info": {
   "codemirror_mode": {
    "name": "ipython",
    "version": 3
   },
   "file_extension": ".py",
   "mimetype": "text/x-python",
   "name": "python",
   "nbconvert_exporter": "python",
   "pygments_lexer": "ipython3",
   "version": "3.10.18"
  }
 },
 "nbformat": 4,
 "nbformat_minor": 5
}
